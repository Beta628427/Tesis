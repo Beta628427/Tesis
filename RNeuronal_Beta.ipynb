{
  "nbformat": 4,
  "nbformat_minor": 0,
  "metadata": {
    "colab": {
      "name": "Beta.ipynb",
      "provenance": [],
      "collapsed_sections": [],
      "authorship_tag": "ABX9TyOeCpat8n63dskyn9qqTlyA",
      "include_colab_link": true
    },
    "kernelspec": {
      "name": "python3",
      "display_name": "Python 3"
    }
  },
  "cells": [
    {
      "cell_type": "markdown",
      "metadata": {
        "id": "view-in-github",
        "colab_type": "text"
      },
      "source": [
        "<a href=\"https://colab.research.google.com/github/Beta628427/Tesis/blob/master/RNeuronal_Beta.ipynb\" target=\"_parent\"><img src=\"https://colab.research.google.com/assets/colab-badge.svg\" alt=\"Open In Colab\"/></a>"
      ]
    },
    {
      "cell_type": "code",
      "metadata": {
        "id": "Qck-H5grA2Nv",
        "colab_type": "code",
        "colab": {}
      },
      "source": [
        "# Red Neuronal\n",
        "\n",
        "import numpy as np # Numeros\n",
        "import scipy as sc\n",
        "import matplotlib.pyplot as plt\n",
        "\n",
        "from sklearn.datasets import make_circles"
      ],
      "execution_count": 0,
      "outputs": []
    },
    {
      "cell_type": "code",
      "metadata": {
        "id": "rcX5TGgVJVwv",
        "colab_type": "code",
        "colab": {
          "base_uri": "https://localhost:8080/",
          "height": 265
        },
        "outputId": "0e0f950b-4e86-4dfe-eec8-7b0e523dfc05"
      },
      "source": [
        "# Crear el dataset\n",
        "\n",
        "n = 400\n",
        "p = 2\n",
        "\n",
        "X, y = make_circles(n_samples=n, factor= 0.5, noise= 0.03)\n",
        "\n",
        "plt.scatter(X[ y==0 ,0], X[ y==0 ,1], c= \"skyblue\")\n",
        "plt.scatter(X[ y==1 ,0], X[ y==1 ,1], c= \"salmon\")\n",
        "plt.axis(\"equal\")\n",
        "plt.show()"
      ],
      "execution_count": 29,
      "outputs": [
        {
          "output_type": "display_data",
          "data": {
            "image/png": "[encoded data removed]",
            "text/plain": [
              "<Figure size 432x288 with 1 Axes>"
            ]
          },
          "metadata": {
            "tags": []
          }
        }
      ]
    },
    {
      "cell_type": "code",
      "metadata": {
        "id": "yoWhofsMMcWc",
        "colab_type": "code",
        "colab": {}
      },
      "source": [
        "# Clase de capa de red\n",
        "\n",
        "class neural_layer():\n",
        "\n",
        "  # n_conn = numero de conecciones\n",
        "  # n_neur = numero de neuronas\n",
        "  # act_f  = funcion de activación\n",
        "\n",
        "  def __init__(self, n_conn, n_neur, act_f):\n",
        "    self.act_f = act_f\n",
        "    # ventor columna (1)\n",
        "    self.b     = np.random.rand(1,n_neur) * 2 -1\n",
        "    self.w     = np.random.rand(n_conn, n_neur) \n"
      ],
      "execution_count": 0,
      "outputs": []
    },
    {
      "cell_type": "code",
      "metadata": {
        "id": "vZTEzpIIMRQo",
        "colab_type": "code",
        "colab": {
          "base_uri": "https://localhost:8080/",
          "height": 282
        },
        "outputId": "e917e166-5f41-4fa0-c328-1fd4fac47573"
      },
      "source": [
        "# Funciones de activación\n",
        "\n",
        "# Sigmoido\n",
        "sign = (lambda x: 1/ (1 + np.e **(-x)),\n",
        "        lambda x: x * (1-x))\n",
        "\n",
        "# Relu\n",
        "relu = (lambda x: np.maximum(0, x))\n",
        "\n",
        "_x = np.linspace(-7, 7, 100)\n",
        "\n",
        "plt.plot(_x, sign[0](_x))"
      ],
      "execution_count": 38,
      "outputs": [
        {
          "output_type": "execute_result",
          "data": {
            "text/plain": [
              "[<matplotlib.lines.Line2D at 0x7fe85cc245f8>]"
            ]
          },
          "metadata": {
            "tags": []
          },
          "execution_count": 38
        },
        {
          "output_type": "display_data",
          "data": {
            "image/png": "[encoded data removed]",
            "text/plain": [
              "<Figure size 432x288 with 1 Axes>"
            ]
          },
          "metadata": {
            "tags": []
          }
        }
      ]
    },
    {
      "cell_type": "code",
      "metadata": {
        "id": "FVR54t05QsTa",
        "colab_type": "code",
        "colab": {
          "base_uri": "https://localhost:8080/",
          "height": 119
        },
        "outputId": "0aaee1e5-736a-4aff-98d2-ec8b73b65352"
      },
      "source": [
        "layer0 = neural_layer(p, 4, sign)\n",
        "Layer1 = neural_layer(4, 8, sign)\n",
        "# ....\n",
        "\n",
        "def create_nn(topology, act_f):\n",
        "\n",
        "  nn = []\n",
        "\n",
        "  for l, layer in enumerate(topology[:-1]):\n",
        "    nn.append(neural_layer(topology[l], topology[l+1], act_f))\n",
        "  return nn\n",
        "\n"
      ],
      "execution_count": 43,
      "outputs": [
        {
          "output_type": "execute_result",
          "data": {
            "text/plain": [
              "[<__main__.neural_layer at 0x7fe85cc57b00>,\n",
              " <__main__.neural_layer at 0x7fe85d1393c8>,\n",
              " <__main__.neural_layer at 0x7fe85d139ef0>,\n",
              " <__main__.neural_layer at 0x7fe85d1399e8>,\n",
              " <__main__.neural_layer at 0x7fe85d139630>,\n",
              " <__main__.neural_layer at 0x7fe85d139fd0>]"
            ]
          },
          "metadata": {
            "tags": []
          },
          "execution_count": 43
        }
      ]
    },
    {
      "cell_type": "code",
      "metadata": {
        "id": "XGhR8HyMTC5n",
        "colab_type": "code",
        "colab": {}
      },
      "source": [
        "topology = [p, 4, 8, 16, 8, 4, 1]\n",
        "\n",
        "create_nn(topology, sign)\n",
        "\n",
        "# Yp = predicha\n",
        "# Yr = Real\n",
        "\n",
        "l2_cost = lambda Yp, Yr\n",
        "\n",
        "def train():\n",
        "   "
      ],
      "execution_count": 0,
      "outputs": []
    },
    {
      "cell_type": "code",
      "metadata": {
        "id": "HIg8NHcvS-j4",
        "colab_type": "code",
        "colab": {}
      },
      "source": [
        ""
      ],
      "execution_count": 0,
      "outputs": []
    },
    {
      "cell_type": "code",
      "metadata": {
        "id": "k0cOO0fhS1gD",
        "colab_type": "code",
        "colab": {}
      },
      "source": [
        ""
      ],
      "execution_count": 0,
      "outputs": []
    },
    {
      "cell_type": "code",
      "metadata": {
        "id": "eprSeDq5LNRS",
        "colab_type": "code",
        "colab": {}
      },
      "source": [
        ""
      ],
      "execution_count": 0,
      "outputs": []
    }
  ]
}