{
  "nbformat": 4,
  "nbformat_minor": 0,
  "metadata": {
    "colab": {
      "name": "PCA-classification-age-group.ipynb",
      "provenance": [],
      "collapsed_sections": [],
      "toc_visible": true,
      "include_colab_link": true
    },
    "kernelspec": {
      "name": "python3",
      "display_name": "Python 3"
    }
  },
  "cells": [
    {
      "cell_type": "markdown",
      "metadata": {
        "id": "view-in-github",
        "colab_type": "text"
      },
      "source": [
        "<a href=\"https://colab.research.google.com/github/Beta628427/Tesis/blob/master/PCA_classification_age_group.ipynb\" target=\"_parent\"><img src=\"https://colab.research.google.com/assets/colab-badge.svg\" alt=\"Open In Colab\"/></a>"
      ]
    },
    {
      "cell_type": "markdown",
      "metadata": {
        "id": "XpPSkdiawARL",
        "colab_type": "text"
      },
      "source": [
        "# Young and elderly classification regardless gait speed in human motion analysis\n",
        "\n",
        "## Prof. Nikolay Prieto \n",
        "*Universidad de San Buenaventura - Sede Bogotá*\n",
        "\n",
        "We are going to aplpy Artificial Intelligence techniques to classify either the speed of the subject and the age group according to the data given from Ferrarins article [doi](http://dx.doi.org/10.1016/j.gaitpost.2010.08.009).\n",
        "\n",
        "Also, literature about AI applied on the biomechanics field can be apprecieted in the Figueiredo's paper. In this opportunity we will build an AI algorithm able to classify if the person is young **y** or adult **a**, also in which velocity (Too slow **XS**, Slow **S**, Natural Speed **Natural**, More than normal **M** and fast **L**) \n",
        "\n",
        "Let us explain the procedure:\n",
        "\n"
      ]
    },
    {
      "cell_type": "code",
      "metadata": {
        "id": "rZogBhn2v7L6",
        "colab_type": "code",
        "outputId": "65c95ae0-4ccd-41d7-aa6d-8ca9825a1cdb",
        "colab": {
          "base_uri": "https://localhost:8080/",
          "height": 35
        }
      },
      "source": [
        "#Loading the root directory and adding my google drive disk\n",
        "from google.colab import drive\n",
        "drive.mount('/content/gdrive', force_remount=True)\n",
        "root_dir = \"/content/gdrive/My Drive/Simulations/Quasi-stiffness/DJS-Scripts/\""
      ],
      "execution_count": 7,
      "outputs": [
        {
          "output_type": "stream",
          "text": [
            "Mounted at /content/gdrive\n"
          ],
          "name": "stdout"
        }
      ]
    },
    {
      "cell_type": "code",
      "metadata": {
        "id": "yljgn0D1yHhu",
        "colab_type": "code",
        "outputId": "d5370693-a81f-42f6-d737-669237312e4b",
        "colab": {
          "base_uri": "https://localhost:8080/",
          "height": 35
        }
      },
      "source": [
        "#Changing to the root directory\n",
        "import sys\n",
        "import os\n",
        "#print(sys.path)\n",
        "os.chdir(root_dir)\n",
        "!ls Figures"
      ],
      "execution_count": 8,
      "outputs": [
        {
          "output_type": "stream",
          "text": [
            "ls: cannot access 'Figures': No such file or directory\n"
          ],
          "name": "stdout"
        }
      ]
    },
    {
      "cell_type": "code",
      "metadata": {
        "id": "LLXfm5opqT6W",
        "colab_type": "code",
        "colab": {
          "base_uri": "https://localhost:8080/",
          "height": 35
        },
        "outputId": "03f9a923-ed8b-412b-9034-b77f21df471e"
      },
      "source": [
        "from google.colab import drive\n",
        "drive.mount('/content/drive')"
      ],
      "execution_count": 9,
      "outputs": [
        {
          "output_type": "stream",
          "text": [
            "Mounted at /content/drive\n"
          ],
          "name": "stdout"
        }
      ]
    },
    {
      "cell_type": "markdown",
      "metadata": {
        "id": "if07HzMpw4p2",
        "colab_type": "text"
      },
      "source": [
        "# Some concepts about Human Gait\n",
        "\n",
        "## How the planes in human motion are named\n",
        "\n",
        "![human planes](https://drive.google.com/uc?id=1icMDhWCw_1s4FKYPgSEJYIUX7_Wwo3x1)\n",
        "\n",
        "## Terminology in movements\n",
        "![movements in gait](https://drive.google.com/uc?id=1hTtXIwNR7VXbimmYdlbwW4t1eQPFSnXn)\n",
        "\n",
        "## Terminology only for ankle foot\n",
        "![foot movements](https://drive.google.com/uc?id=1_kTatzluVRXAC2D1XhaP7X48M02MkUkZ)\n",
        "\n"
      ]
    },
    {
      "cell_type": "code",
      "metadata": {
        "id": "Oqf7_iGxUFzi",
        "colab_type": "code",
        "colab": {
          "base_uri": "https://localhost:8080/",
          "height": 770
        },
        "outputId": "7d115a81-5bad-4185-cdc3-abfcecc8da72"
      },
      "source": [
        "import warnings\n",
        "import numpy as np\n",
        "import pandas as pd\n",
        "from bokeh.layouts import row, column\n",
        "from bokeh.palettes import Spectral6, Set3\n",
        "from bokeh.plotting import figure, show, gridplot\n",
        "from bokeh.models import ColumnDataSource\n",
        "from bokeh.models.glyphs import Text\n",
        "from bokeh.io import reset_output, output_notebook\n",
        "from scipy.integrate import simps\n",
        "import scipy.optimize as optimization\n",
        "from sklearn import linear_model\n",
        "from sklearn.metrics import mean_squared_error\n",
        "from DJSFunctions import Plotting\n",
        "from DJSFunctions import EnergyFunctions\n",
        "from DJSFunctions import Regressions\n",
        "from curvature import smoothness\n",
        "import matplotlib.pyplot as plt\n",
        "from pathlib import PurePath\n",
        "import os\n",
        "warnings.filterwarnings('ignore')\n",
        "output_notebook()\n",
        "##Cleaning and selecting the data\n",
        "reset_output()\n",
        "current_dir = PurePath(os.getcwd())\n",
        "data_dir =  os.chdir('../Ferrarin')\n",
        "FerrarinData =  pd.ExcelFile('mmc3.xls')\n",
        "labels =  ['Natural_y','XSy','Sy','My','Ly','Toe_y','Heel_y','Ascending_y',\n",
        "           'Descending_y','Natural_a','XSa','Sa','Ma','La','Toe_a','Heel_a',\n",
        "           'Ascending_a','Descending_a']\n",
        "os.chdir(current_dir)\n",
        "## Building the subtables"
      ],
      "execution_count": 10,
      "outputs": [
        {
          "output_type": "stream",
          "text": [
            "ERROR:root:Internal Python error in the inspect module.\n",
            "Below is the traceback from this internal error.\n",
            "\n"
          ],
          "name": "stderr"
        },
        {
          "output_type": "stream",
          "text": [
            "Traceback (most recent call last):\n",
            "  File \"/usr/local/lib/python3.6/dist-packages/IPython/core/interactiveshell.py\", line 2882, in run_code\n",
            "    exec(code_obj, self.user_global_ns, self.user_ns)\n",
            "  File \"<ipython-input-10-129e1b05bd8f>\", line 14, in <module>\n",
            "    from DJSFunctions import Plotting\n",
            "ModuleNotFoundError: No module named 'DJSFunctions'\n",
            "\n",
            "During handling of the above exception, another exception occurred:\n",
            "\n",
            "Traceback (most recent call last):\n",
            "  File \"/usr/local/lib/python3.6/dist-packages/IPython/core/ultratb.py\", line 1132, in get_records\n",
            "    return _fixed_getinnerframes(etb, number_of_lines_of_context, tb_offset)\n",
            "  File \"/usr/local/lib/python3.6/dist-packages/IPython/core/ultratb.py\", line 313, in wrapped\n",
            "    return f(*args, **kwargs)\n",
            "  File \"/usr/local/lib/python3.6/dist-packages/IPython/core/ultratb.py\", line 358, in _fixed_getinnerframes\n",
            "    records = fix_frame_records_filenames(inspect.getinnerframes(etb, context))\n",
            "  File \"/usr/lib/python3.6/inspect.py\", line 1490, in getinnerframes\n",
            "    frameinfo = (tb.tb_frame,) + getframeinfo(tb, context)\n",
            "  File \"/usr/lib/python3.6/inspect.py\", line 1448, in getframeinfo\n",
            "    filename = getsourcefile(frame) or getfile(frame)\n",
            "  File \"/usr/lib/python3.6/inspect.py\", line 696, in getsourcefile\n",
            "    if getattr(getmodule(object, filename), '__loader__', None) is not None:\n",
            "  File \"/usr/lib/python3.6/inspect.py\", line 725, in getmodule\n",
            "    file = getabsfile(object, _filename)\n",
            "  File \"/usr/lib/python3.6/inspect.py\", line 709, in getabsfile\n",
            "    return os.path.normcase(os.path.abspath(_filename))\n",
            "  File \"/usr/lib/python3.6/posixpath.py\", line 383, in abspath\n",
            "    cwd = os.getcwd()\n",
            "FileNotFoundError: [Errno 2] No such file or directory\n"
          ],
          "name": "stdout"
        },
        {
          "output_type": "error",
          "ename": "ModuleNotFoundError",
          "evalue": "ignored",
          "traceback": [
            "\u001b[0;31m---------------------------------------------------------------------------\u001b[0m",
            "",
            "\u001b[0;31m---------------------------------------------------------------------------\u001b[0;32m\nNOTE: If your import is failing due to a missing package, you can\nmanually install dependencies using either !pip or !apt.\n\nTo view examples of installing some common dependencies, click the\n\"Open Examples\" button below.\n\u001b[0;31m---------------------------------------------------------------------------\u001b[0m\n"
          ]
        }
      ]
    },
    {
      "cell_type": "code",
      "metadata": {
        "id": "qpeCBTLFUSHW",
        "colab_type": "code",
        "colab": {}
      },
      "source": [
        "sheet_names = pd.Series(FerrarinData.sheet_names[1:])\n",
        "sheet_names"
      ],
      "execution_count": 0,
      "outputs": []
    },
    {
      "cell_type": "code",
      "metadata": {
        "id": "h-kPLja2UmOF",
        "colab_type": "code",
        "colab": {}
      },
      "source": [
        "#Storing all sheets in one dictionary\n",
        "complete_data = {i:FerrarinData.parse(i) for i in sheet_names}\n",
        "#Creating Multiindex pandas either for rows and columns\n",
        "\n",
        "multi_labels= [labels, ['SD-','mean','SD+']]\n",
        "#Creating the multi-index for the columns \n",
        "columns = pd.MultiIndex.from_product(multi_labels, names=['Speed', 'Measure'])\n",
        "for j in sheet_names[:5]:\n",
        "  # Creating the multi-index for the indexes\n",
        "  labels_index= complete_data[j].iloc[:,0].unique()\n",
        "  #Getting the cycle percentage\n",
        "  cycle = complete_data[j].iloc[:,1].unique()\n",
        "  #Making the multi-index\n",
        "  multi_index= [labels_index, cycle]\n",
        "  df_ = complete_data[j]\n",
        "  rows = pd.MultiIndex.from_product(multi_index, names=[df_.columns[0], 'Gait percentage'])\n",
        "  #Erasing the first two columns as we \n",
        "  df_ = df_.drop(df_.columns[0:2], axis=1)\n",
        "  df_.columns = columns\n",
        "  df_.index = rows\n",
        "  df_\n",
        "  #Overwriting the data in the bog dict\n",
        "  complete_data[j] = df_\n",
        "#Showing samples\n",
        "complete_data[sheet_names[1]].head(5)"
      ],
      "execution_count": 0,
      "outputs": []
    },
    {
      "cell_type": "code",
      "metadata": {
        "id": "koawTdCVdkS9",
        "colab_type": "code",
        "colab": {}
      },
      "source": [
        "%matplotlib inline\n",
        "import seaborn as sns; sns.set()\n",
        "import matplotlib.pyplot as plt\n",
        "import math\n",
        "from itertools import combinations\n",
        "\n",
        "#Setting plot parameters\n",
        "plt.rcParams.update({'font.size': 22})\n",
        "# Cleaning the plots\n",
        "plt.cla()\n",
        "plt.clf()\n",
        "plt.close()\n",
        "sd=False\n",
        "lab = labels[:8]\n",
        "def lcm(a, b):\n",
        "    return abs(a*b) // math.gcd(a, b)\n",
        "\n",
        "\n",
        "def get_mult_num(integer):\n",
        "  \"\"\"\n",
        "  From https://stackoverflow.com/questions/54556363/finding-two-integers-that-multiply-to-20-can-i-make-this-code-more-pythonic\n",
        "  \"\"\"\n",
        "  given_comb = [1,1,2,2,3,3,4,4,5,5,6,6,7,7]\n",
        "  return [(i, j) for i, j in list(combinations(given_comb,2)) if i * j == integer]\n",
        "  \n",
        "def subpl(integer, a=9, dif=3):\n",
        "  \"\"\"\n",
        "  Function to generate the best combination among a number of plots\n",
        "  It does not work, use_get_mult_num instead\n",
        "  \"\"\"\n",
        "  a_init = a\n",
        "  b_init = b = a - dif \n",
        "  try:\n",
        "    while lcm(a,b) != integer and a+b >=0:\n",
        "      print(a,b)\n",
        "      a -= 1\n",
        "      b -= 1\n",
        "  except (ValueError, ZeroDivisionError) as e:\n",
        "    print('Determining the suitable division could not be done, trying bypairs')\n",
        "    dif += 1\n",
        "    a,b = subpl(integer, a=a_init, dif=dif)\n",
        "  return a,b\n"
      ],
      "execution_count": 0,
      "outputs": []
    },
    {
      "cell_type": "code",
      "metadata": {
        "id": "ySoQkLhpi1mq",
        "colab_type": "code",
        "colab": {}
      },
      "source": [
        "def gait_plot(df_, label, sd=False, title=False):\n",
        "  # Cleaning the plots\n",
        "  plt.cla()\n",
        "  plt.clf()\n",
        "  plt.close()\n",
        "  \n",
        "  # Getting the first index in rows\n",
        "  indexes= df_.index.get_level_values(0).unique()\n",
        "  #Gait cycle\n",
        "  x = df_.index.get_level_values(1).unique()\n",
        "  #nrows, ncols = subpl(len(lab))\n",
        "  nrows, ncols = get_mult_num(len(indexes))[-1]\n",
        "  fig, axs = plt.subplots(nrows=nrows, ncols=ncols, figsize=(nrows*ncols*2, ncols*nrows), sharex=True)\n",
        "  # \"ravel\" flattens the numpy array without making a copy\n",
        "  for j, ax in enumerate(axs.ravel()):\n",
        "    for i in label:\n",
        "      mean = df_[i,'mean'][indexes[j]].values\n",
        "      sd_min = df_[i,'SD-'][indexes[j]].values\n",
        "      sd_max = df_[i,'SD+'][indexes[j]].values\n",
        "      ax.plot(x, mean, '-')\n",
        "      if sd:\n",
        "        ax.fill_between(x, sd_min, sd_max, alpha=0.2)\n",
        "      ax.set_xlabel('Gait cycle [%]')\n",
        "      ax.set_ylabel(indexes[j]+' [deg]')\n",
        "  ax.legend(label, loc='center left', bbox_to_anchor=(1, 0.5))\n",
        "  if title:  plt.suptitle(title)\n",
        "  plt.show()\n",
        "  # ax.plot(x, y, 'o', color='tab:brown')\n",
        "  return"
      ],
      "execution_count": 0,
      "outputs": []
    },
    {
      "cell_type": "code",
      "metadata": {
        "id": "kpppE1dqjLhH",
        "colab_type": "code",
        "colab": {}
      },
      "source": [
        "df_ = complete_data[sheet_names[0]]\n",
        "gait_plot(df_, labels[:], sd=True, title='Angles for youth population')"
      ],
      "execution_count": 0,
      "outputs": []
    },
    {
      "cell_type": "code",
      "metadata": {
        "id": "zLV7y3PVSoM9",
        "colab_type": "code",
        "colab": {}
      },
      "source": [
        "df_ = complete_data[sheet_names[1]]\n",
        "gait_plot(df_, [labels[0], labels[9]], sd=False, title='GRF for youth people')"
      ],
      "execution_count": 0,
      "outputs": []
    },
    {
      "cell_type": "code",
      "metadata": {
        "id": "lSELKps5bg5b",
        "colab_type": "code",
        "colab": {}
      },
      "source": [
        "##Calling by multi row\n",
        "idx = pd.IndexSlice\n",
        "indexes= df_.index.get_level_values(0).unique()\n",
        "df_['Natural_y'].sample()"
      ],
      "execution_count": 0,
      "outputs": []
    },
    {
      "cell_type": "code",
      "metadata": {
        "id": "NAKFguSjV-3k",
        "colab_type": "code",
        "colab": {}
      },
      "source": [
        "#Calling by multi index and multirow\n",
        "df_.loc[idx[:, :], idx[:, 'mean']]\n"
      ],
      "execution_count": 0,
      "outputs": []
    },
    {
      "cell_type": "markdown",
      "metadata": {
        "id": "ERxyU3lt7hlJ",
        "colab_type": "text"
      },
      "source": [
        "## How to use the PCA to classify according to the data\n",
        "\n",
        "We are going to base on the work done by **Eskofier et al** [3] which abstract is:\n",
        "\n",
        "\n",
        "> *The classification of gait patterns has great potential as a diagnostic tool, for example, for the diagnosis of injury or to identify at-risk gait in the elderly. The purpose of the paper is to present a method for classifying group differences in gait pattern by using the complete spatial and temporal information of the segment motion quantified by the markers. The classification rates that are obtained are compared with previous studies using conventional classification features. For our analysis, 37 three-dimensional marker trajectories were collected from each of our 24 young and 24 elderly female subjects while they were walking on a treadmill. Principal component analysis was carried out on these trajectories to retain the spatial and temporal information in the markers. Using a Support Vector Machine with a linear kernel, a classification rate of 95.8% was obtained. This classification approach also allowed visualisation of the contribution of individual markers to group differentiation in position and time. The approach made no specific assumptions and did not require prior knowledge of specific time points in the gait cycle. It is therefore directly applicable for group classification tasks in any study involving marker measurements.*\n",
        "\n",
        "\n",
        "\n",
        "### How the population was set up in the experiment\n",
        "\n",
        "![population](https://drive.google.com/uc?id=1tPM95BR0RKJXewVQr_FArLogsJabCawz)\n",
        "\n",
        "### Which were the variables implied in the human gait analysis\n",
        "\n",
        "![markers](https://drive.google.com/uc?id=1V6qAzovgWS_Hlu8_66dfqGSU_-nuWh9C)\n",
        "\n",
        "![marker vi](https://drive.google.com/uc?id=1fySK5muO4eubvpkxFPKQEseR-6GNwvxW)\n",
        "\n",
        "### Which classification algorithm was applied to the problem\n",
        "\n",
        "![marker viz](https://drive.google.com/uc?id=1Tc0JxEmy-_JFW_0K2SqbwLiEKyCNN52E)\n",
        "\n",
        "# Your Task\n",
        "\n",
        "\n",
        "1.   Be familiar with the Anthropometric concepts implied in the dataset.\n",
        "2.   Rearrange the data so that you can implement a feature extraction process.\n",
        "Implement a feasible and believable feature extraction process using PCA or kPCA.\n",
        "3. Perform a multiclass classification process  using your prefered method. \n",
        "Determine the number of Principal Components in which you get the highest accuracy.\n",
        "4. Get your own conclusions\n",
        "\n",
        "\n",
        "\n",
        "**Plus:** Use the feature importance process to know the most important variables in the process.\n",
        "\n",
        "\n"
      ]
    },
    {
      "cell_type": "markdown",
      "metadata": {
        "id": "pClVQ_ZWoFCC",
        "colab_type": "text"
      },
      "source": [
        "\n",
        "[1] G. Bovi, M. Rabuffetti, P. Mazzoleni, M. Ferrarin, A multiple-task gait analysis approach: Kinematic, kinetic and EMG reference data for healthy young and adult subjects, Gait Posture. 33 (2011) 6–13. https://doi.org/10.1016/j.gaitpost.2010.08.009.\n",
        "\n",
        "[2] J. Figueiredo, C.P. Santos, J.C. Moreno, Automatic recognition of gait patterns in human motor disorders using machine learning: A review, Med. Eng. Phys. 53 (2018) 1–12. https://doi.org/10.1016/j.medengphy.2017.12.006.\n",
        "\n",
        "[3] B.M. Eskofier, P. Federolf, P.F. Kugler, B.M. Nigg, Marker-based classification of young-elderly gait pattern differences via direct PCA feature extraction and SVMs, Comput. Methods Biomech. Biomed. Engin. 16 (2013) 435–442. https://doi.org/10.1080/10255842.2011.624515.\n",
        "\n",
        "[4] M.W. Whittle, Gait Analysis an Introduction, 4th ed., Elsevier, 2007.\n"
      ]
    }
  ]
}