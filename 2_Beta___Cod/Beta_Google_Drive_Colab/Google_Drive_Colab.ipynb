{
  "nbformat": 4,
  "nbformat_minor": 0,
  "metadata": {
    "colab": {
      "name": "Untitled1.ipynb",
      "provenance": [],
      "authorship_tag": "ABX9TyM5GdqOiip+Ua6ADXE/br+d",
      "include_colab_link": true
    },
    "kernelspec": {
      "name": "python3",
      "display_name": "Python 3"
    }
  },
  "cells": [
    {
      "cell_type": "markdown",
      "metadata": {
        "id": "view-in-github",
        "colab_type": "text"
      },
      "source": [
        "<a href=\"https://colab.research.google.com/github/Beta628427/Tesis/blob/master/2_Beta___Cod/Beta_Google_Drive_Colab/Google_Drive_Colab.ipynb\" target=\"_parent\"><img src=\"https://colab.research.google.com/assets/colab-badge.svg\" alt=\"Open In Colab\"/></a>"
      ]
    },
    {
      "cell_type": "code",
      "metadata": {
        "id": "-viRTT01wqeG",
        "colab_type": "code",
        "colab": {}
      },
      "source": [
        "# Importamos lib de acceso a drive y damos acceso al drive\n",
        "# https://gspread.readthedocs.io/en/latest/\n",
        "import gspread\n",
        "from google.colab import auth\n",
        "from oauth2client.client import GoogleCredentials\n",
        "\n",
        "auth.authenticate_user()\n",
        "gc = gspread.authorize(GoogleCredentials.get_application_default())"
      ],
      "execution_count": 0,
      "outputs": []
    },
    {
      "cell_type": "code",
      "metadata": {
        "id": "XgOJOzfDxo8D",
        "colab_type": "code",
        "colab": {}
      },
      "source": [
        "# Me conecto a la dataset por excel de google\n",
        "# El dataset que en este caso se llama <Ejemplo>\n",
        "# Debe estar guardado en el drive que se conecto\n",
        "sh = gc.open('mmc3')\n",
        "hojaExcel = gc.open('mmc3').sheet1\n",
        "rows = hojaExcel.get_all_values()"
      ],
      "execution_count": 0,
      "outputs": []
    },
    {
      "cell_type": "code",
      "metadata": {
        "id": "PC8uCN2vx1gX",
        "colab_type": "code",
        "outputId": "89c3e16f-f55e-4b24-e1c9-e722436af7d0",
        "colab": {
          "base_uri": "https://localhost:8080/",
          "height": 34
        }
      },
      "source": [
        "print(rows)"
      ],
      "execution_count": 0,
      "outputs": [
        {
          "output_type": "stream",
          "text": [
            "[]\n"
          ],
          "name": "stdout"
        }
      ]
    },
    {
      "cell_type": "code",
      "metadata": {
        "id": "zCiS71_8ysBh",
        "colab_type": "code",
        "colab": {}
      },
      "source": [
        "# Creo una pestaña de excel nueva\n",
        "# nota: si lo creas una vez sacara error la proxima vez si no \n",
        "# modificas el nombre\n",
        "wks = sh.add_worksheet(title='HOJAN',rows='100',cols='20')"
      ],
      "execution_count": 0,
      "outputs": []
    },
    {
      "cell_type": "code",
      "metadata": {
        "id": "O3bznhvnzEC0",
        "colab_type": "code",
        "outputId": "299bf910-1009-4f2f-fe76-bdc58b4284d6",
        "colab": {
          "base_uri": "https://localhost:8080/",
          "height": 102
        }
      },
      "source": [
        "# cargo un dato en un coordenada de excel\n",
        "wks.update_acell('B2',27)"
      ],
      "execution_count": 0,
      "outputs": [
        {
          "output_type": "execute_result",
          "data": {
            "text/plain": [
              "{'spreadsheetId': '12BmqUPOqafEptqIxmKPI8fIG3_wUz9vXFdsyj-h_Zbk',\n",
              " 'updatedCells': 1,\n",
              " 'updatedColumns': 1,\n",
              " 'updatedRange': 'HOJAN!B2',\n",
              " 'updatedRows': 1}"
            ]
          },
          "metadata": {
            "tags": []
          },
          "execution_count": 12
        }
      ]
    },
    {
      "cell_type": "code",
      "metadata": {
        "id": "x9F5d5b_zX1N",
        "colab_type": "code",
        "outputId": "503aff4d-d95a-4ab9-f978-be26bf6cba40",
        "colab": {
          "base_uri": "https://localhost:8080/",
          "height": 54
        }
      },
      "source": [
        "# PANDAS \n",
        "import pandas as pd\n",
        "\n",
        "sh            = gc.open('mmc3')                   # Abro documento \n",
        "worksheet     = sh.worksheet(\"Joint Rotations\")   # Entro a la pestaña de Excel\n",
        "rows          = worksheet.get_all_values()        # Saco todos los valores\n",
        "df            = pd.DataFrame.from_records(rows)   # Guardo en una tabla panda\n",
        "df.columns    = df.iloc[0]                        # Todos los datos en fila_0\n",
        "\n",
        "print(list(df))"
      ],
      "execution_count": 0,
      "outputs": [
        {
          "output_type": "stream",
          "text": [
            "['Angle [°]', '% Gait Cycle', 'Natural', '', '', 'XS', '', '', 'S', '', '', 'M', '', '', 'L', '', '', 'Toe', '', '', 'Heel', '', '', 'Ascending', '', '', 'Descending', '', '', 'Natural', '', '', 'XS', '', '', 'S', '', '', 'M', '', '', 'L', '', '', 'Toe', '', '', 'Heel', '', '', 'Ascending', '', '', 'Descending', '', '']\n"
          ],
          "name": "stdout"
        }
      ]
    },
    {
      "cell_type": "code",
      "metadata": {
        "id": "3TYp_upT1Oax",
        "colab_type": "code",
        "outputId": "c4bf133b-1099-418d-b4a6-829cbdb375f3",
        "colab": {
          "base_uri": "https://localhost:8080/",
          "height": 255
        }
      },
      "source": [
        "# Llamamos un target en este caso la columna con target < XS >\n",
        "print(df[\"XS\"])"
      ],
      "execution_count": 0,
      "outputs": [
        {
          "output_type": "stream",
          "text": [
            "0        XS     XS\n",
            "0        XS     XS\n",
            "1      -7.2  -15.7\n",
            "2      -7.2  -15.9\n",
            "3      -7.2  -16.1\n",
            "4      -7.2  -16.3\n",
            "...     ...    ...\n",
            "1410  -18.6  -18.9\n",
            "1411  -18.5  -18.9\n",
            "1412  -18.3  -18.8\n",
            "1413  -18.0  -18.5\n",
            "1414  -17.5  -18.0\n",
            "\n",
            "[1415 rows x 2 columns]\n"
          ],
          "name": "stdout"
        }
      ]
    }
  ]
}