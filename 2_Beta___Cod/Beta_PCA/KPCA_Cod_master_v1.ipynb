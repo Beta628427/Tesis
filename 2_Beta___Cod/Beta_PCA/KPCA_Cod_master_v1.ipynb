{
  "nbformat": 4,
  "nbformat_minor": 0,
  "metadata": {
    "colab": {
      "name": "Untitled3.ipynb",
      "provenance": [],
      "mount_file_id": "1BMT7eSFRNeEalocYkOjSb9XmRr5gsJAZ",
      "authorship_tag": "ABX9TyPkVcxCvot2d/iczx00HfC/",
      "include_colab_link": true
    },
    "kernelspec": {
      "name": "python3",
      "display_name": "Python 3"
    }
  },
  "cells": [
    {
      "cell_type": "markdown",
      "metadata": {
        "id": "view-in-github",
        "colab_type": "text"
      },
      "source": [
        "<a href=\"https://colab.research.google.com/github/Beta628427/Tesis/blob/master/2_Beta___Cod/Beta_PCA/KPCA_Cod_master_v1.ipynb\" target=\"_parent\"><img src=\"https://colab.research.google.com/assets/colab-badge.svg\" alt=\"Open In Colab\"/></a>"
      ]
    },
    {
      "cell_type": "markdown",
      "metadata": {
        "id": "kET4JkPTBsJO",
        "colab_type": "text"
      },
      "source": [
        "# CODIGO MASTER PCA _ BETA\n",
        "\n",
        "## En escodigo encontraremos PCA aplicado a los datos mmc3\n",
        "\n",
        "__ Versión 1.0 __"
      ]
    },
    {
      "cell_type": "code",
      "metadata": {
        "id": "afDihFYhZMga",
        "colab_type": "code",
        "colab": {}
      },
      "source": [
        "import gspread\n",
        "from google.colab import auth\n",
        "from oauth2client.client import GoogleCredentials\n",
        "# Autoriza Drive_BETA\n",
        "auth.authenticate_user()\n",
        "gc = gspread.authorize(GoogleCredentials.get_application_default())"
      ],
      "execution_count": 0,
      "outputs": []
    },
    {
      "cell_type": "code",
      "metadata": {
        "id": "U20E-jv6ZuJi",
        "colab_type": "code",
        "colab": {
          "base_uri": "https://localhost:8080/",
          "height": 255
        },
        "outputId": "73c0ed94-2b3d-45f0-a76b-82a1f47ea322"
      },
      "source": [
        "import pandas as pd\n",
        "import numpy  as np\n",
        "import matplotlib.pyplot as plt\n",
        "#\n",
        "sh            = gc.open('mmc3')                   # Abro documento \n",
        "worksheet     = sh.worksheet(\"Joint Rotations\")   # Entro a la pestaña de Excel\n",
        "rows          = worksheet.get_all_values()        # Saco todos los valores\n",
        "df            = pd.DataFrame.from_records(rows)   # Guardo en una tabla panda\n",
        "#\n",
        "targets                       = df.iloc[0,:]\n",
        "targets                       = pd.DataFrame(targets[np.newaxis,:])\n",
        "Pelvic_Ant_Posterior_Tilt     = np.concatenate((np.array(targets),np.array(df.iloc[1:102,:])),axis=0)\n",
        "# creo X\n",
        "# concateno de 0-100% con los valores q deseo graficar como coordenadas X\n",
        "X1 = np.concatenate((np.array(df.iloc[1:102,[1]]),np.array(df.iloc[1:102,[6]])), axis=1)\n",
        "X2 = np.concatenate((np.array(df.iloc[1:102,[1]]),np.array(df.iloc[1:102,[33]])),axis=1)\n",
        "pd.DataFrame(X1)\n",
        "X  = np.concatenate((X1,X2),axis=0)\n",
        "pd.DataFrame(X)\n",
        "# creo Y\n",
        "Y = []\n",
        "for i in range(X1.shape[0]):\n",
        "  Y.append(int(0))\n",
        "for i in range(X2.shape[0]):\n",
        "  Y.append(int(1))\n",
        "#\n",
        "Y = np.array(Y)\n",
        "print(pd.DataFrame(Y)[0])\n",
        "#\n",
        "print(type(X))\n",
        "print(type(Y))"
      ],
      "execution_count": 181,
      "outputs": [
        {
          "output_type": "stream",
          "text": [
            "0      0\n",
            "1      0\n",
            "2      0\n",
            "3      0\n",
            "4      0\n",
            "      ..\n",
            "197    1\n",
            "198    1\n",
            "199    1\n",
            "200    1\n",
            "201    1\n",
            "Name: 0, Length: 202, dtype: int64\n",
            "<class 'numpy.ndarray'>\n",
            "<class 'numpy.ndarray'>\n"
          ],
          "name": "stdout"
        }
      ]
    },
    {
      "cell_type": "code",
      "metadata": {
        "id": "gEyEP9y1gXMn",
        "colab_type": "code",
        "colab": {
          "base_uri": "https://localhost:8080/",
          "height": 297
        },
        "outputId": "bd6288b2-578c-4fd5-d820-aff4af68f703"
      },
      "source": [
        "X = np.array(X)\n",
        "Y = Y[:, np.newaxis]\n",
        "#\n",
        "plt.scatter(X[Y[:,0] == 0, 0], X[Y[:,0] == 0, 1], color='red',  marker='^', alpha=0.5) # jovenes\n",
        "plt.scatter(X[Y[:,0] == 1, 0], X[Y[:,0] == 1, 1], color='blue', marker='o', alpha=0.5) # viejos\n",
        "plt.tight_layout()\n",
        "plt.show()"
      ],
      "execution_count": 182,
      "outputs": [
        {
          "output_type": "display_data",
          "data": {
            "image/png": "[encoded data removed]",
            "text/plain": [
              "<Figure size 432x288 with 1 Axes>"
            ]
          },
          "metadata": {
            "tags": [],
            "needs_background": "light"
          }
        }
      ]
    },
    {
      "cell_type": "code",
      "metadata": {
        "id": "y3sKn38_zDKm",
        "colab_type": "code",
        "colab": {
          "base_uri": "https://localhost:8080/",
          "height": 297
        },
        "outputId": "3b19e9b6-2ddf-4f0c-e810-8aa066a68575"
      },
      "source": [
        "from sklearn.decomposition import PCA\n",
        "#\n",
        "pca=PCA(n_components=2)\n",
        "pca.fit(X)\n",
        "#\n",
        "transformada=pca.transform(X)\n",
        "#\n",
        "plt.scatter(transformada[Y[:,0] == 0,0],transformada[Y[:,0] == 0,1], color='red',  marker='^', alpha=0.5) \n",
        "plt.scatter(transformada[Y[:,0] == 1,0],transformada[Y[:,0] == 1,1], color='blue', marker='o', alpha=0.5) \n",
        "#\n",
        "plt.tight_layout()\n",
        "plt.show()"
      ],
      "execution_count": 195,
      "outputs": [
        {
          "output_type": "display_data",
          "data": {
            "image/png": "[encoded data removed]",
            "text/plain": [
              "<Figure size 432x288 with 1 Axes>"
            ]
          },
          "metadata": {
            "tags": [],
            "needs_background": "light"
          }
        }
      ]
    }
  ]
}