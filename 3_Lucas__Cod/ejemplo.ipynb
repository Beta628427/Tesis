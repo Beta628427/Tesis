{
  "nbformat": 4,
  "nbformat_minor": 0,
  "metadata": {
    "colab": {
      "name": "Untitled2.ipynb",
      "provenance": [],
      "include_colab_link": true
    },
    "kernelspec": {
      "name": "python3",
      "display_name": "Python 3"
    }
  },
  "cells": [
    {
      "cell_type": "markdown",
      "metadata": {
        "id": "view-in-github",
        "colab_type": "text"
      },
      "source": [
        "<a href=\"https://colab.research.google.com/github/Beta628427/Tesis/blob/master/3_Lucas__Cod/ejemplo.ipynb\" target=\"_parent\"><img src=\"https://colab.research.google.com/assets/colab-badge.svg\" alt=\"Open In Colab\"/></a>"
      ]
    },
    {
      "cell_type": "code",
      "metadata": {
        "id": "dQEvy8ypUVvQ",
        "colab_type": "code",
        "outputId": "d3e0d9b2-6b8e-4822-e990-ce828043d3dc",
        "colab": {
          "base_uri": "https://localhost:8080/",
          "height": 170
        }
      },
      "source": [
        "import numpy as np\n",
        "import matplotlib.pyplot as plt\n",
        "import pandas as pd\n",
        "from collections import Counter\n",
        "import seaborn as sns\n",
        "import mglearn\n",
        "\n",
        "\n",
        "df = pd.read_excel('C:/Users/ASUS/Desktop/Lucas/U/Tesis/dataset/Ferrarin/Ferrarin/mmc3.xls', sep=';', header = 0,sheet_name='Joint Rotations')\n",
        "papt = pd.DataFrame(df[( df['Angle [°]'] == 'Pelvic Ant/Posterior Tilt')]) \n",
        "papt = papt.drop(['Angle [°]','% Gait Cycle'], axis=1)\n",
        "papt_joven =papt[['Natural','XS','S','M','L','Toe','Heel','Ascending','Descending']]\t\t\n",
        "papt_joven.loc[ papt_joven['Natural'] != 0, 'Class'] = 0 \n",
        "papt_adulto =papt[['Natural.1','XS.1','S.1','M.1','L.1','Toe.1','Heel.1','Ascending.1','Descending.1']]\t\t\n",
        "papt_adulto.loc[papt_adulto['Natural.1'] != 0, 'Class'] = 1 \n",
        "papt_joven = papt_joven.to_numpy()\n",
        "papt_adulto = papt_adulto.to_numpy()\n",
        "papt = np.concatenate((papt_joven, papt_adulto), axis=0)\n",
        "X = papt[: , 0:9]\n",
        "y = papt[: , 9:10]\n",
        "\n",
        "from sklearn.decomposition import PCA\n",
        "\n",
        "pca=PCA(n_components=2)\n",
        "pca.fit(X)\n",
        "\n",
        "transformada=pca.transform(X)\n",
        "\n",
        "print(X.shape)\n",
        "print(transformada.shape)\n",
        "\n",
        "plt.scatter(X[:,0],X[:,1],marker='o')\n",
        "plt.legend(loc='best')\n",
        "plt.xlabel('PCA 1')\n",
        "plt.ylabel('PCA 2')\n"
      ],
      "execution_count": 0,
      "outputs": [
        {
          "output_type": "stream",
          "text": [
            "ERROR! Session/line number was not unique in database. History logging moved to new session 59\n",
            "Requirement already satisfied: keras in /usr/local/lib/python3.6/dist-packages (2.2.5)\n",
            "Requirement already satisfied: pyyaml in /usr/local/lib/python3.6/dist-packages (from keras) (3.13)\n",
            "Requirement already satisfied: keras-preprocessing>=1.1.0 in /usr/local/lib/python3.6/dist-packages (from keras) (1.1.0)\n",
            "Requirement already satisfied: six>=1.9.0 in /usr/local/lib/python3.6/dist-packages (from keras) (1.12.0)\n",
            "Requirement already satisfied: scipy>=0.14 in /usr/local/lib/python3.6/dist-packages (from keras) (1.4.1)\n",
            "Requirement already satisfied: keras-applications>=1.0.8 in /usr/local/lib/python3.6/dist-packages (from keras) (1.0.8)\n",
            "Requirement already satisfied: numpy>=1.9.1 in /usr/local/lib/python3.6/dist-packages (from keras) (1.18.2)\n",
            "Requirement already satisfied: h5py in /usr/local/lib/python3.6/dist-packages (from keras) (2.10.0)\n"
          ],
          "name": "stdout"
        }
      ]
    },
    {
      "cell_type": "code",
      "metadata": {
        "id": "kgmaogb_UfOp",
        "colab_type": "code",
        "outputId": "eb6e803d-b6a4-4276-855e-683efe18b36c",
        "colab": {
          "base_uri": "https://localhost:8080/",
          "height": 34
        }
      },
      "source": [
        "print(\"Lucasssss\")"
      ],
      "execution_count": 0,
      "outputs": [
        {
          "output_type": "stream",
          "text": [
            "Lucasssss\n"
          ],
          "name": "stdout"
        }
      ]
    }
  ]
}